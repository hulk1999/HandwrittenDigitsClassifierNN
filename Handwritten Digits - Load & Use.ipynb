{
 "cells": [
  {
   "cell_type": "markdown",
   "metadata": {},
   "source": [
    "# Handwritten Digits Classifier Using Neural Network"
   ]
  },
  {
   "cell_type": "markdown",
   "metadata": {},
   "source": [
    "# Indices\n",
    "&nbsp;1. Dataset<br>\n",
    "&nbsp;&nbsp;&nbsp;&nbsp;&nbsp;1.1. Loading Data<br>\n",
    "&nbsp;&nbsp;&nbsp;&nbsp;&nbsp;1.2. Data Preprocessing<br>\n",
    "&nbsp;2. Model - Neural Network<br>\n",
    "&nbsp;&nbsp;&nbsp;&nbsp;&nbsp;2.1. Supporting Functions<br>\n",
    "&nbsp;&nbsp;&nbsp;&nbsp;&nbsp;&nbsp;&nbsp;&nbsp;&nbsp;2.1.1. Activation Functions<br>\n",
    "&nbsp;&nbsp;&nbsp;&nbsp;&nbsp;&nbsp;&nbsp;&nbsp;&nbsp;2.1.2. Gradient of Activation Functions<br>\n",
    "&nbsp;&nbsp;&nbsp;&nbsp;&nbsp;&nbsp;&nbsp;&nbsp;&nbsp;2.1.3. Processing Functions<br>\n",
    "&nbsp;&nbsp;&nbsp;&nbsp;&nbsp;2.2. Model: Classifier Class<br>\n",
    "&nbsp;3. Loading Model<br>\n",
    "&nbsp;4. Evaluation<br>"
   ]
  },
  {
   "cell_type": "markdown",
   "metadata": {},
   "source": [
    "# Importing Libraries"
   ]
  },
  {
   "cell_type": "code",
   "execution_count": 1,
   "metadata": {},
   "outputs": [],
   "source": [
    "import numpy as np\n",
    "import pickle\n",
    "import os\n",
    "import re  # regex\n",
    "import matplotlib.pyplot as plt\n",
    "from IPython import display\n",
    "from struct import unpack\n",
    "from datetime import datetime"
   ]
  },
  {
   "cell_type": "markdown",
   "metadata": {},
   "source": [
    "# Defining Constants"
   ]
  },
  {
   "cell_type": "code",
   "execution_count": 2,
   "metadata": {},
   "outputs": [],
   "source": [
    "# list of colors for plotting\n",
    "COLOR_LIST = ['#ff7f0e', '#2ca02c', '#d62728', '#9467bd', '#8c564b', '#e377c2', '#7f7f7f', '#bcbd22', '#17becf', '#1f77b4', '#58e03d']"
   ]
  },
  {
   "cell_type": "markdown",
   "metadata": {},
   "source": [
    "# 1. Dataset\n",
    "MNIST handwritten digits dataset: http://yann.lecun.com/exdb/mnist/"
   ]
  },
  {
   "cell_type": "code",
   "execution_count": 3,
   "metadata": {},
   "outputs": [],
   "source": [
    "NUM_TRAIN_MAX = 60000  # number of examples in the MNIST training set\n",
    "NUM_TEST_MAX = 10000   # number of examples in the MNIST test set\n",
    "IMG_SIZE = 28          # each image has size of 28x28\n",
    "INP_LENGTH = 784       # size of image after straightened up\n",
    "NUM_CLASS = 10         # number of classes to make prediction on\n",
    "\n",
    "num_train_load = 60000  # number of training examples to load\n",
    "num_test_load = 10000   # number of test examples to load"
   ]
  },
  {
   "cell_type": "markdown",
   "metadata": {},
   "source": [
    "## 1.1. Loading Data"
   ]
  },
  {
   "cell_type": "code",
   "execution_count": 6,
   "metadata": {},
   "outputs": [],
   "source": [
    "def load_images(set_type, num_example=None):\n",
    "    \"\"\"\n",
    "    Load images of handwritten digits\n",
    "    :param str set_type: train/test\n",
    "    :param int num_example: number of images to read\n",
    "    :return: matrix of images, each image is a vector of ints in [0, 255]\n",
    "    :rtype: np_array<int>[num_example, INP_LENGTH]\n",
    "    \"\"\"\n",
    "    \n",
    "    # get set to load from\n",
    "    if set_type == \"train\":\n",
    "        file_name = \"datasets/train-images.idx3-ubyte\"\n",
    "        if num_example is None: num_example = NUM_TRAIN_MAX  # read all\n",
    "    else:\n",
    "        file_name = \"datasets/t10k-images.idx3-ubyte\"\n",
    "        if num_example is None: num_example = NUM_TEST_MAX  # read all\n",
    "\n",
    "    # load images from file\n",
    "    with open(file_name, \"rb\") as fi:\n",
    "\n",
    "        # these numbers are not used and are assigned manually\n",
    "        fi.read(4)  # magic number, not used\n",
    "        fi.read(4)  # num_row - number of images\n",
    "        fi.read(4)  # size - number of rows\n",
    "        fi.read(4)  # size - number of columns\n",
    "        \n",
    "        # load each image from binary data\n",
    "        image_list = []\n",
    "        for i in range(num_example):\n",
    "            image = []\n",
    "            for pi in range(INP_LENGTH):\n",
    "                pixel = unpack('B', fi.read(1))[0]\n",
    "                image.append(pixel)\n",
    "            image_list.append(image)\n",
    "\n",
    "    return np.array(image_list)\n",
    "\n",
    "\n",
    "def load_labels(set_type, num_example=None):\n",
    "    \"\"\"\n",
    "    Load labels of images\n",
    "    :param str set_type: train/test\n",
    "    :param int num_example: number of labels to read\n",
    "    :return: vector of labels, each label is an int in [0, 9]\n",
    "    :rtype: np_array<int>[num_example,]\n",
    "    \"\"\"\n",
    "\n",
    "    # get set to load from\n",
    "    if set_type == \"train\":\n",
    "        file_name = \"datasets/train-labels.idx1-ubyte\"\n",
    "        if num_example is None: num_example = NUM_TRAIN_MAX  # read all\n",
    "    else:\n",
    "        file_name = \"datasets/t10k-labels.idx1-ubyte\"\n",
    "        if num_example is None: num_example = NUM_TEST_MAX  # read all\n",
    "\n",
    "    # load labels from file\n",
    "    with open(file_name, \"rb\") as fi:\n",
    "\n",
    "        # these numbers are not used and are assigned manually\n",
    "        fi.read(4)  # magic number, not used\n",
    "        fi.read(4)  # num_row - number of labels\n",
    "\n",
    "        # load each label from binary data\n",
    "        label_list = []\n",
    "        for i in range(num_example):\n",
    "            label = unpack('B', fi.read(1))[0]\n",
    "            label_list.append(label)\n",
    "\n",
    "    return np.array(label_list)\n",
    "\n",
    "\n",
    "def load_data_set(set_type, num_example=None):\n",
    "    \"\"\"\n",
    "    Load images and labels\n",
    "    :param str set_type: train/test\n",
    "    :param int num_example: number of examples to read\n",
    "    :return: images list, labels list\n",
    "    :rtype: np_array<int>[num_example, INP_LENGTH], np_array<int>[num_example,]\n",
    "    \"\"\"\n",
    "    \n",
    "    return load_images(set_type, num_example=num_example), load_labels(set_type, num_example=num_example)"
   ]
  },
  {
   "cell_type": "code",
   "execution_count": 7,
   "metadata": {},
   "outputs": [],
   "source": [
    "train_x, train_y = load_data_set('train', num_example=num_train_load)\n",
    "test_x, test_y = load_data_set('test', num_example=num_test_load)"
   ]
  },
  {
   "cell_type": "markdown",
   "metadata": {},
   "source": [
    "## 1.2. Data Preprocessing"
   ]
  },
  {
   "cell_type": "code",
   "execution_count": 8,
   "metadata": {},
   "outputs": [],
   "source": [
    "def scale_x(data_x):\n",
    "    \"\"\"\n",
    "    Apply feature scaling for input set so that each pixel falls in range [-1, 1]\n",
    "    :param np_array<int>[n, INP_LENGTH] data_x: input set\n",
    "    :return: input set after scaled\n",
    "    :rtype: np_array<int>[n, INP_LENGTH]\n",
    "    \"\"\"\n",
    "    \n",
    "    return (data_x/255)*2 - 1"
   ]
  },
  {
   "cell_type": "code",
   "execution_count": 9,
   "metadata": {},
   "outputs": [],
   "source": [
    "train_x = scale_x(train_x)\n",
    "test_x = scale_x(test_x)"
   ]
  },
  {
   "cell_type": "markdown",
   "metadata": {},
   "source": [
    "# 2. Model - Neural Network"
   ]
  },
  {
   "cell_type": "markdown",
   "metadata": {},
   "source": [
    "## 2.1. Supporting Functions"
   ]
  },
  {
   "cell_type": "markdown",
   "metadata": {},
   "source": [
    "### 2.1.1. Activation Functions"
   ]
  },
  {
   "cell_type": "markdown",
   "metadata": {},
   "source": [
    "Sigmoid:\n",
    "\n",
    "\\begin{equation}\n",
    "S(x) = \\frac{1}{1+e^{-x}}\n",
    "\\end{equation}\n",
    "\n",
    "\\begin{equation}\n",
    "S(z)_i = \\frac{1}{1+e^{-z_i}}\n",
    "\\end{equation}\n",
    "\n",
    "Softmax:\n",
    "\n",
    "\\begin{equation}\n",
    "\\sigma(z)_i = \\frac{e^{z_i}}{\\sum^n_{j=1}e^{z_j}}\n",
    "\\end{equation}"
   ]
  },
  {
   "cell_type": "code",
   "execution_count": 10,
   "metadata": {},
   "outputs": [],
   "source": [
    "def sigmoid(z):\n",
    "    \"\"\"\n",
    "    Sigmoid activation function\n",
    "    :param np_array<float>[1, n] z: output of a layer that has not been activated \n",
    "    :return: activated output\n",
    "    :rtype: np_array<float>[1, n]\n",
    "    \"\"\"\n",
    "\n",
    "    return 1/(1+np.exp(-z))\n",
    "\n",
    "\n",
    "def softmax(z):\n",
    "    \"\"\"\n",
    "    Softmax activation function\n",
    "    :param np_array<float>[1, n] z: output of a layer that has not been activated \n",
    "    :return: activated output\n",
    "    :rtype: np_array<float>[1, n]\n",
    "    \"\"\"\n",
    "    \n",
    "    exp_arr = np.exp(z)\n",
    "    sum = np.sum(exp_arr)\n",
    "    return exp_arr/sum"
   ]
  },
  {
   "cell_type": "markdown",
   "metadata": {},
   "source": [
    "### 2.1.2. Derivative of Activation Functions"
   ]
  },
  {
   "cell_type": "markdown",
   "metadata": {},
   "source": [
    "Derivative of Sigmoid:\n",
    "\n",
    "\\begin{equation}\n",
    "S'(x) = \\frac{e^{-x}}{(1+e^{-x})^2} = S(x)(1-S(x))\n",
    "\\end{equation}\n",
    "\n",
    "\\begin{equation}\n",
    "S'(a)_i = \\frac{e^{-a_i}}{(1+e^{-a_i})^2} = S(a_i)(1-S(a_i))\n",
    "\\end{equation}"
   ]
  },
  {
   "cell_type": "code",
   "execution_count": 11,
   "metadata": {},
   "outputs": [],
   "source": [
    "def sigmoid_derv(a):\n",
    "    \"\"\"\n",
    "    Derivative of sigmoid activation function\n",
    "    :param np_array<float>[1, n] a: output of a layer that has been activated \n",
    "    :return: derivative of softmax activation function\n",
    "    :rtype: np_array<float>[1, n]\n",
    "    \"\"\"\n",
    "    \n",
    "    return np.multiply(a, 1-a)"
   ]
  },
  {
   "cell_type": "markdown",
   "metadata": {},
   "source": [
    "### 2.1.3. Processing Functions\n",
    "One-hot encoder:<br>\n",
    "0 => [1, 0, 0, 0, 0, 0, 0, 0, 0, 0]<br>\n",
    "5 => [0, 0, 0, 0, 0, 1, 0, 0, 0, 0]<br>\n",
    "9 => [0, 0, 0, 0, 0, 0, 0, 0, 0, 1]"
   ]
  },
  {
   "cell_type": "code",
   "execution_count": 12,
   "metadata": {},
   "outputs": [],
   "source": [
    "def make_one_hot(y):\n",
    "    \"\"\"\n",
    "    Make one-hot encoder array from label\n",
    "    :param int y: a single label\n",
    "    :return: one-hot encoder array\n",
    "    :rtype: np_array<int>[NUM_CLASS,]\n",
    "    \"\"\"\n",
    "    \n",
    "    one_hot = np.zeros(NUM_CLASS)\n",
    "    one_hot[y] = 1\n",
    "    return one_hot"
   ]
  },
  {
   "cell_type": "markdown",
   "metadata": {},
   "source": [
    "## 2.2. Model: Classifier Class"
   ]
  },
  {
   "cell_type": "markdown",
   "metadata": {},
   "source": [
    "Feed-forward:\n",
    "\n",
    "\\begin{align}\n",
    "z^{(l)} & = \\big(bias+a^{(l-1)}\\big).W^{(l-1)} \\\\\n",
    "a^{(l)} & = activation^{(l)}\\big(z^{(l)}\\big) \\\\\\\\\n",
    "a^{(0)} & = x = \\text{input} \\\\\n",
    "z^{(1)} & = \\big([1]+a^{(0)}\\big).W^{(0)} \\\\\n",
    "a^{(1)} & = S\\big(z^{(1)}\\big) = \\text{hidden layer} \\\\\n",
    "z^{(2)} & = \\big([1]+a^{(1)}\\big).W^{(1)} \\\\\n",
    "a^{(2)} & = \\sigma\\big(z^{(2)}\\big) = \\hat{y} = \\text{output}\n",
    "\\end{align}\n",
    "\n",
    "Loss function: Cross-entropy\n",
    "\n",
    "\\begin{align}\n",
    "J(W) & = -\\sum_{k=0}^{9} y_k \\log\\hat{y}_k \\tag{for one example} \\\\\n",
    "J(W) & = -\\frac{1}{n}\\sum_{i=0}^{n-1}\\sum_{k=0}^{9} y^{(i)}_k \\log\\hat{y}^{(i)}_k \\tag{for the entire dataset}\n",
    "\\end{align}\n",
    "\n",
    "Backpropagation:\n",
    "\n",
    "\\begin{eqnarray}\n",
    "\\delta^{(L)} &=& \\frac{\\partial J}{\\partial z^{(L)}} = \\frac{\\partial J}{\\partial a^{(L)}}\\frac{\\partial a^{(L)}}{\\partial z^{(L)}} &=& a^{(L)}-y \\\\\n",
    "\\delta^{(l)} &=& \\frac{\\partial J}{\\partial z^{(l)}} = \\bigg(\\frac{\\partial J}{\\partial z^{(l+1)}}W^{(l)T}\\bigg)\\frac{\\partial a^{(l)}}{\\partial z^{(l)}} &=& \\bigg(\\delta^{(l+1)}W^{(l)T}\\bigg)\\frac{\\partial activation^{(l)}\\big(z^{(l)}\\big)}{\\partial z^{(l)}} \\\\\n",
    "\\frac{\\partial J}{\\partial W^{(l)}} &=& \\big(bias+a^{(l)T}\\big)\\frac{\\partial J}{\\partial z^{(l+1)}} &=& \\big(bias+a^{(l)T}\\big)\\delta^{(l+1)} \\\\\n",
    "\\end{eqnarray}\n",
    "<br>\n",
    "<br>\n",
    "\\begin{align}\n",
    "\\delta^{(2)} & = a^{(2)}-y = \\hat{y}-y = output-y \\\\\n",
    "\\frac{\\partial J}{\\partial W^{(1)}} & = \\big([1]+a^{(1)T}\\big)\\delta^{(2)} \\\\\n",
    "\\delta^{(1)} & = \\big(\\delta^{(2)}W^{(1)T}\\big)\\frac{\\partial S\\big(z^{(1)}\\big)}{\\partial z^{(1)}} \\\\\n",
    "\\frac{\\partial J}{\\partial W^{(0)}} & = \\big([1]+a^{(0)T}\\big)\\delta^{(1)}\n",
    "\\end{align}\n",
    "\n",
    "Update weights:\n",
    "\n",
    "\\begin{equation}\n",
    "W^{(i)} = W^{(i)} - \\alpha\\frac{\\partial J}{\\partial W^{(i)}}\n",
    "\\end{equation}"
   ]
  },
  {
   "cell_type": "code",
   "execution_count": 13,
   "metadata": {},
   "outputs": [],
   "source": [
    "class HDClassifierNN:\n",
    "    \"\"\"\n",
    "    Handwritten digits classifier using Neural Network model\n",
    "    Layers: [INPUT_LENGTH, 100, 10]\n",
    "    Learning rate: 0.01\n",
    "    Loss function: Cross-entropy\n",
    "    Optimization method: Stochastic Gradient Descent\n",
    "    \"\"\"\n",
    "    \n",
    "    def __init__(self):\n",
    "        \"\"\"\n",
    "        Initialize model\n",
    "        :return: None\n",
    "        \"\"\"\n",
    "        \n",
    "        # set layers, learning rate & other attributes\n",
    "        self.layer_list = [INP_LENGTH, 100, 10]\n",
    "        self.learning_rate = 0.01\n",
    "        self.w_list = []\n",
    "        self.trained_epochs = 0\n",
    "        self.loss_list = [[], []]\n",
    "        \n",
    "        # random weights in range [-1, 1)\n",
    "        for i in range(len(self.layer_list) - 1):\n",
    "            self.w_list.append(np.random.rand(self.layer_list[i]+1, self.layer_list[i+1])*2-1)\n",
    "            \n",
    "            \n",
    "    def predict(self, x):\n",
    "        \"\"\"\n",
    "        Give posibility for each class\n",
    "        :param np_array<float>[1, INP_LENGTH] x: input for the network\n",
    "        :return: list of posibility for each class\n",
    "        :rtype: np_array<float>[1, NUM_CLASS]\n",
    "        \"\"\"\n",
    "        \n",
    "        # input layer\n",
    "        a = x\n",
    "        \n",
    "        # hidden layer\n",
    "        a = np.append([[1]], a, axis=1)   # add bias\n",
    "        z = np.matmul(a, self.w_list[0])  # get output from layer\n",
    "        a = sigmoid(z)                    # apply activation function\n",
    "        \n",
    "        # output layer\n",
    "        a = np.append([[1]], a, axis=1)   # add bias\n",
    "        z = np.matmul(a, self.w_list[1])  # get output from layer\n",
    "        a = softmax(z)                    # apply activation function\n",
    "        \n",
    "        return a\n",
    "    \n",
    "    \n",
    "    def predict_class(self, x):\n",
    "        \"\"\"\n",
    "        Give predicted class and certainty on the prediction\n",
    "        :param np_array<float>[1, INP_LENGTH] x: input for the network\n",
    "        :return: predicted_class, certainty\n",
    "        :rtype: int, float\n",
    "        \"\"\"\n",
    "        \n",
    "        prediction = self.predict(x)[0]\n",
    "        certainty = np.amax(prediction)\n",
    "        predicted_class = np.where(prediction == certainty)[0][0]\n",
    "        return predicted_class, certainty\n",
    "            \n",
    "    \n",
    "    def feed_forward(self, x):\n",
    "        \"\"\"\n",
    "        Perform feed-forward for neural network\n",
    "        :param np_array<float>[1, INP_LENGTH] x: input for the network\n",
    "        :return: list of outputs for every layers, including x\n",
    "        :rtype: list<np_array<float>[1, length_of_each_layer]>[number_of_layers]\n",
    "        \"\"\"\n",
    "        \n",
    "        # input layer\n",
    "        a = x\n",
    "        output_list = [a]                 # add input to output_list\n",
    "        \n",
    "        # hidden layer\n",
    "        a = np.append([[1]], a, axis=1)   # add bias\n",
    "        z = np.matmul(a, self.w_list[0])  # get output from layer\n",
    "        a = sigmoid(z)                    # apply activation function\n",
    "        output_list.append(a)             # add output of the layer to output_list\n",
    "        \n",
    "        # output layer\n",
    "        a = np.append([[1]], a, axis=1)   # add bias\n",
    "        z = np.matmul(a, self.w_list[1])  # get output from layer\n",
    "        a = softmax(z)                    # apply activation function\n",
    "        output_list.append(a)             # add output of the layer to output_list\n",
    "\n",
    "        return output_list\n",
    "        \n",
    "    \n",
    "    def cal_loss(self, prediction, label):\n",
    "        \"\"\"\n",
    "        Calculate cross-entropy loss for a single prediction\n",
    "        :param np_array<float>[1, NUM_CLASS] prediction:\n",
    "            prediction returned by self.predict() or self.feed_forward()[-1]\n",
    "        :param int label: label\n",
    "        :return: loss for the single prediction\n",
    "        :rtype: float\n",
    "        \"\"\"\n",
    "\n",
    "        return -np.log(prediction[0][label])\n",
    "    \n",
    "    \n",
    "    def cal_loss_set(self, data_x, data_y):\n",
    "        \"\"\"\n",
    "        Calculate cross-entropy loss when predicting on inputted set\n",
    "        :param np_array<int>[n, INP_LENGTH] data_x: input set\n",
    "        :param np_array<int>[n,] data_y: label set\n",
    "        :return: loss on the inputted set\n",
    "        :rtype: float\n",
    "        \"\"\"\n",
    "        \n",
    "        total_loss = 0\n",
    "        # calculate loss for each prediction then add to total_loss\n",
    "        for i in range(len(data_y)):\n",
    "            prediction = self.predict(data_x[i].reshape(1, 784))\n",
    "            total_loss += self.cal_loss(prediction, data_y[i])\n",
    "        loss = total_loss / len(data_y)  # loss is average loss of a prediction\n",
    "        return loss\n",
    "    \n",
    "    \n",
    "    def backpropagate(self, output_list, label):\n",
    "        \"\"\"\n",
    "        Perform backpropagation for neural network\n",
    "        :param list<np_array<float>[1, length_of_each_layer]>[number_of_layers] output_list:\n",
    "            list of outputs for every layers, including input layer, returned by self.feed_forward()\n",
    "        :param int label: label\n",
    "        :return: list of derivatives for updating weights\n",
    "        :rtype: list<np_array<float>[length_of_layer[i]+1, length_of_layer[i+1]]>[number_of_layers-1]\n",
    "        \"\"\"\n",
    "        \n",
    "        # output layer\n",
    "        delta = output_list[-1] - make_one_hot(label)                         # get \"error\" of the output layer\n",
    "        derv = np.matmul(np.append([[1]], output_list[-2].T, axis=0), delta)  # get derivative\n",
    "        derv_list = [derv]                                                    # add derivative to derv_list\n",
    "        \n",
    "        # hidden layer\n",
    "        activation_derv = sigmoid_derv(output_list[-2])                         # get derivative of the activation function\n",
    "        delta = np.multiply(np.matmul(delta, self.w_list[-1][1: , : ].T), activation_derv)  # get \"error\" of the layer\n",
    "        derv = np.matmul(np.append([[1]], output_list[-3].T, axis=0), delta)                # get derivative of loss function\n",
    "        derv_list.insert(0, derv)                                                           # add derivative to grad_list\n",
    "        \n",
    "        return derv_list\n",
    "    \n",
    "    \n",
    "    def update_weights(self, derv_list):\n",
    "        \"\"\"\n",
    "        Update weights to minimize loss function\n",
    "        :param list<np_array<float>[length_of_layer[i]+1, length_of_layer[i+1]]>[number_of_layers-1] derv_list:\n",
    "            list of derivatives for updating weights, returned by self.backpropagate()\n",
    "        :return: None\n",
    "        \"\"\"\n",
    "        \n",
    "        for i in range(len(self.w_list)):\n",
    "            self.w_list[i] = self.w_list[i] - self.learning_rate*derv_list[i]\n",
    "    \n",
    "    \n",
    "    def plot_losses(self, num_point_x=None, start_time=None):\n",
    "        \"\"\"\n",
    "        Plot loss history on training and test set\n",
    "        :param datetime.datetime start_time: time when starting training\n",
    "        :return: None\n",
    "        \"\"\"\n",
    "        \n",
    "        fig = plt.figure(figsize=(16, 5))\n",
    "        ax = plt.subplot(xlabel='100 examples', ylabel='Loss', title='Losses', xlim=(0, len(self.loss_list[0])), ylim=(0, 5))\n",
    "        ax.plot(self.loss_list[0], label='Train | {0:.2f}'.format(self.loss_list[0][-1]))\n",
    "        ax.plot(self.loss_list[1], label='Test | {0:.2f}'.format(self.loss_list[1][-1]))\n",
    "        if start_time is not None:\n",
    "            ax.text(0, -0.7, 'Time elapsed: {}'.format(datetime.utcnow()-start_time))\n",
    "        ax.legend()"
   ]
  },
  {
   "cell_type": "markdown",
   "metadata": {},
   "source": [
    "# 3. Loading Model\n",
    "Load trained model from file."
   ]
  },
  {
   "cell_type": "code",
   "execution_count": 4,
   "metadata": {},
   "outputs": [],
   "source": [
    "def load_model(name=None):\n",
    "    \"\"\"\n",
    "    Load model from saved-models directory\n",
    "    :param str name: name of the model, load most recent model with timestamp in name if not specified\n",
    "    :return: loaded model\n",
    "    :rtype: HDClassifierNN\n",
    "    \"\"\"\n",
    "    \n",
    "    # if name not specified: get the most recent model with timestamp in name\n",
    "    if name is None:\n",
    "        name = ''\n",
    "        for r, d, f in os.walk('saved-models'):\n",
    "            for file_name in f:\n",
    "                if re.search('model-\\d{10}\\.pickle', file_name) is not None and file_name > name:\n",
    "                    name = file_name\n",
    "        if name == '':\n",
    "            print(\"No model with timestamp found\")\n",
    "            return None\n",
    "    # else: get model with name 'model-name.pickle'\n",
    "    else:\n",
    "        name = 'model-{}.pickle'.format(name)\n",
    "    \n",
    "    # load model from pickle file\n",
    "    with open('saved-models/{}'.format(name), 'rb') as fi:\n",
    "        model = pickle.load(fi)\n",
    "    print(\"Model loaded from {}\".format(name))\n",
    "              \n",
    "    return model"
   ]
  },
  {
   "cell_type": "code",
   "execution_count": 24,
   "metadata": {},
   "outputs": [
    {
     "name": "stdout",
     "output_type": "stream",
     "text": [
      "Model loaded from model-3-60000-10000.pickle\n"
     ]
    }
   ],
   "source": [
    "model = load_model('3-60000-10000')  # the name means trained with 3 epoch,\n",
    "                                     # on 60000 training examples\n",
    "                                     # and tested on 10000 examples"
   ]
  },
  {
   "cell_type": "code",
   "execution_count": 25,
   "metadata": {},
   "outputs": [
    {
     "data": {
      "image/png": "[encoded data removed]",
      "text/plain": [
       "<Figure size 1152x360 with 1 Axes>"
      ]
     },
     "metadata": {
      "needs_background": "light"
     },
     "output_type": "display_data"
    }
   ],
   "source": [
    "model.plot_losses()"
   ]
  },
  {
   "cell_type": "markdown",
   "metadata": {},
   "source": [
    "# 4. Evaluation"
   ]
  },
  {
   "cell_type": "code",
   "execution_count": 28,
   "metadata": {},
   "outputs": [],
   "source": [
    "def cal_accuracy(model, data_x, data_y):\n",
    "    \"\"\"\n",
    "    Calculate accuracy score of model on inputted set \n",
    "    :param HDClassifierNN model: model used to make prediction\n",
    "    :param np_array<int>[n, INP_LENGTH] data_x: input set\n",
    "    :param np_array<int>[n,] data_y: label set\n",
    "    :return: accuracy score\n",
    "    :rtype: float\n",
    "    \"\"\"\n",
    "    \n",
    "    correct_count = 0\n",
    "    for i in range(len(data_y)):\n",
    "        predicted_class, _ = model.predict_class(data_x[i].reshape(1, 784))\n",
    "        correct_count += predicted_class == data_y[i]\n",
    "    return correct_count / len(data_y)"
   ]
  },
  {
   "cell_type": "code",
   "execution_count": 31,
   "metadata": {},
   "outputs": [
    {
     "name": "stdout",
     "output_type": "stream",
     "text": [
      "Accuracy on training set: 92.84666666666666%\n",
      "Accuracy on test set: 92.42%\n"
     ]
    },
    {
     "data": {
      "image/png": "[encoded data removed]",
      "text/plain": [
       "<Figure size 216x360 with 1 Axes>"
      ]
     },
     "metadata": {
      "needs_background": "light"
     },
     "output_type": "display_data"
    }
   ],
   "source": [
    "acc_train = cal_accuracy(model, train_x, train_y)*100\n",
    "acc_test = cal_accuracy(model, test_x, test_y)*100\n",
    "\n",
    "print(\"Accuracy on training set: {}%\".format(acc_train))\n",
    "print(\"Accuracy on test set: {}%\".format(acc_test))"
   ]
  },
  {
   "cell_type": "markdown",
   "metadata": {},
   "source": [
    "# END"
   ]
  }
 ],
 "metadata": {
  "kernelspec": {
   "display_name": "Python 3",
   "language": "python",
   "name": "python3"
  },
  "language_info": {
   "codemirror_mode": {
    "name": "ipython",
    "version": 3
   },
   "file_extension": ".py",
   "mimetype": "text/x-python",
   "name": "python",
   "nbconvert_exporter": "python",
   "pygments_lexer": "ipython3",
   "version": "3.8.3"
  }
 },
 "nbformat": 4,
 "nbformat_minor": 2
}
